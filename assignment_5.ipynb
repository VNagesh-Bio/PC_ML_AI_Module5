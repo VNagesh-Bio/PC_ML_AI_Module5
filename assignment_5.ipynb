{
 "cells": [
  {
   "cell_type": "markdown",
   "metadata": {},
   "source": [
    "### Will a Customer Accept the Coupon?\n",
    "\n",
    "**Context**\n",
    "\n",
    "Imagine driving through town and a coupon is delivered to your cell phone for a restaraunt near where you are driving. Would you accept that coupon and take a short detour to the restaraunt? Would you accept the coupon but use it on a sunbsequent trip? Would you ignore the coupon entirely? What if the coupon was for a bar instead of a restaraunt? What about a coffee house? Would you accept a bar coupon with a minor passenger in the car? What about if it was just you and your partner in the car? Would weather impact the rate of acceptance? What about the time of day?\n",
    "\n",
    "Obviously, proximity to the business is a factor on whether the coupon is delivered to the driver or not, but what are the factors that determine whether a driver accepts the coupon once it is delivered to them? How would you determine whether a driver is likely to accept a coupon?\n",
    "\n",
    "**Overview**\n",
    "\n",
    "The goal of this project is to use what you know about visualizations and probability distributions to distinguish between customers who accepted a driving coupon versus those that did not.\n",
    "\n",
    "**Data**\n",
    "\n",
    "This data comes to us from the UCI Machine Learning repository and was collected via a survey on Amazon Mechanical Turk. The survey describes different driving scenarios including the destination, current time, weather, passenger, etc., and then ask the person whether he will accept the coupon if he is the driver. Answers that the user will drive there ‘right away’ or ‘later before the coupon expires’ are labeled as ‘Y = 1’ and answers ‘no, I do not want the coupon’ are labeled as ‘Y = 0’.  There are five different types of coupons -- less expensive restaurants (under \\\\$20), coffee houses, carry out & take away, bar, and more expensive restaurants (\\\\$20 - \\\\$50). "
   ]
  },
  {
   "cell_type": "markdown",
   "metadata": {},
   "source": [
    "**Deliverables**\n",
    "\n",
    "Your final product should be a brief report that highlights the differences between customers who did and did not accept the coupons.  To explore the data you will utilize your knowledge of plotting, statistical summaries, and visualization using Python. You will publish your findings in a public facing github repository as your first portfolio piece. \n",
    "\n",
    "\n",
    "\n"
   ]
  },
  {
   "cell_type": "markdown",
   "metadata": {},
   "source": [
    "### Data Description\n",
    "Keep in mind that these values mentioned below are average values.\n",
    "\n",
    "The attributes of this data set include:\n",
    "1. User attributes\n",
    "    -  Gender: male, female\n",
    "    -  Age: below 21, 21 to 25, 26 to 30, etc.\n",
    "    -  Marital Status: single, married partner, unmarried partner, or widowed\n",
    "    -  Number of children: 0, 1, or more than 1\n",
    "    -  Education: high school, bachelors degree, associates degree, or graduate degree\n",
    "    -  Occupation: architecture & engineering, business & financial, etc.\n",
    "    -  Annual income: less than \\\\$12500, \\\\$12500 - \\\\$24999, \\\\$25000 - \\\\$37499, etc.\n",
    "    -  Number of times that he/she goes to a bar: 0, less than 1, 1 to 3, 4 to 8 or greater than 8\n",
    "    -  Number of times that he/she buys takeaway food: 0, less than 1, 1 to 3, 4 to 8 or greater\n",
    "    than 8\n",
    "    -  Number of times that he/she goes to a coffee house: 0, less than 1, 1 to 3, 4 to 8 or\n",
    "    greater than 8\n",
    "    -  Number of times that he/she eats at a restaurant with average expense less than \\\\$20 per\n",
    "    person: 0, less than 1, 1 to 3, 4 to 8 or greater than 8\n",
    "    -  Number of times that he/she goes to a bar: 0, less than 1, 1 to 3, 4 to 8 or greater than 8\n",
    "    \n",
    "\n",
    "2. Contextual attributes\n",
    "    - Driving destination: home, work, or no urgent destination\n",
    "    - Location of user, coupon and destination: we provide a map to show the geographical\n",
    "    location of the user, destination, and the venue, and we mark the distance between each\n",
    "    two places with time of driving. The user can see whether the venue is in the same\n",
    "    direction as the destination.\n",
    "    - Weather: sunny, rainy, or snowy\n",
    "    - Temperature: 30F, 55F, or 80F\n",
    "    - Time: 10AM, 2PM, or 6PM\n",
    "    - Passenger: alone, partner, kid(s), or friend(s)\n",
    "\n",
    "\n",
    "3. Coupon attributes\n",
    "    - time before it expires: 2 hours or one day"
   ]
  },
  {
   "cell_type": "code",
   "execution_count": 1,
   "metadata": {},
   "outputs": [],
   "source": [
    "import matplotlib.pyplot as plt\n",
    "import seaborn as sns\n",
    "import pandas as pd\n",
    "import numpy as np"
   ]
  },
  {
   "cell_type": "markdown",
   "metadata": {},
   "source": [
    "### Problems\n",
    "\n",
    "Use the prompts below to get started with your data analysis.  \n",
    "\n",
    "1. Read in the `coupons.csv` file.\n",
    "\n",
    "\n"
   ]
  },
  {
   "cell_type": "code",
   "execution_count": 2,
   "metadata": {},
   "outputs": [],
   "source": [
    "data = pd.read_csv('data/coupons.csv')"
   ]
  },
  {
   "cell_type": "code",
   "execution_count": 3,
   "metadata": {},
   "outputs": [
    {
     "data": {
      "text/html": [
       "<div>\n",
       "<style scoped>\n",
       "    .dataframe tbody tr th:only-of-type {\n",
       "        vertical-align: middle;\n",
       "    }\n",
       "\n",
       "    .dataframe tbody tr th {\n",
       "        vertical-align: top;\n",
       "    }\n",
       "\n",
       "    .dataframe thead th {\n",
       "        text-align: right;\n",
       "    }\n",
       "</style>\n",
       "<table border=\"1\" class=\"dataframe\">\n",
       "  <thead>\n",
       "    <tr style=\"text-align: right;\">\n",
       "      <th></th>\n",
       "      <th>destination</th>\n",
       "      <th>passanger</th>\n",
       "      <th>weather</th>\n",
       "      <th>temperature</th>\n",
       "      <th>time</th>\n",
       "      <th>coupon</th>\n",
       "      <th>expiration</th>\n",
       "      <th>gender</th>\n",
       "      <th>age</th>\n",
       "      <th>maritalStatus</th>\n",
       "      <th>...</th>\n",
       "      <th>CoffeeHouse</th>\n",
       "      <th>CarryAway</th>\n",
       "      <th>RestaurantLessThan20</th>\n",
       "      <th>Restaurant20To50</th>\n",
       "      <th>toCoupon_GEQ5min</th>\n",
       "      <th>toCoupon_GEQ15min</th>\n",
       "      <th>toCoupon_GEQ25min</th>\n",
       "      <th>direction_same</th>\n",
       "      <th>direction_opp</th>\n",
       "      <th>Y</th>\n",
       "    </tr>\n",
       "  </thead>\n",
       "  <tbody>\n",
       "    <tr>\n",
       "      <th>0</th>\n",
       "      <td>No Urgent Place</td>\n",
       "      <td>Alone</td>\n",
       "      <td>Sunny</td>\n",
       "      <td>55</td>\n",
       "      <td>2PM</td>\n",
       "      <td>Restaurant(&lt;20)</td>\n",
       "      <td>1d</td>\n",
       "      <td>Female</td>\n",
       "      <td>21</td>\n",
       "      <td>Unmarried partner</td>\n",
       "      <td>...</td>\n",
       "      <td>never</td>\n",
       "      <td>NaN</td>\n",
       "      <td>4~8</td>\n",
       "      <td>1~3</td>\n",
       "      <td>1</td>\n",
       "      <td>0</td>\n",
       "      <td>0</td>\n",
       "      <td>0</td>\n",
       "      <td>1</td>\n",
       "      <td>1</td>\n",
       "    </tr>\n",
       "    <tr>\n",
       "      <th>1</th>\n",
       "      <td>No Urgent Place</td>\n",
       "      <td>Friend(s)</td>\n",
       "      <td>Sunny</td>\n",
       "      <td>80</td>\n",
       "      <td>10AM</td>\n",
       "      <td>Coffee House</td>\n",
       "      <td>2h</td>\n",
       "      <td>Female</td>\n",
       "      <td>21</td>\n",
       "      <td>Unmarried partner</td>\n",
       "      <td>...</td>\n",
       "      <td>never</td>\n",
       "      <td>NaN</td>\n",
       "      <td>4~8</td>\n",
       "      <td>1~3</td>\n",
       "      <td>1</td>\n",
       "      <td>0</td>\n",
       "      <td>0</td>\n",
       "      <td>0</td>\n",
       "      <td>1</td>\n",
       "      <td>0</td>\n",
       "    </tr>\n",
       "    <tr>\n",
       "      <th>2</th>\n",
       "      <td>No Urgent Place</td>\n",
       "      <td>Friend(s)</td>\n",
       "      <td>Sunny</td>\n",
       "      <td>80</td>\n",
       "      <td>10AM</td>\n",
       "      <td>Carry out &amp; Take away</td>\n",
       "      <td>2h</td>\n",
       "      <td>Female</td>\n",
       "      <td>21</td>\n",
       "      <td>Unmarried partner</td>\n",
       "      <td>...</td>\n",
       "      <td>never</td>\n",
       "      <td>NaN</td>\n",
       "      <td>4~8</td>\n",
       "      <td>1~3</td>\n",
       "      <td>1</td>\n",
       "      <td>1</td>\n",
       "      <td>0</td>\n",
       "      <td>0</td>\n",
       "      <td>1</td>\n",
       "      <td>1</td>\n",
       "    </tr>\n",
       "    <tr>\n",
       "      <th>3</th>\n",
       "      <td>No Urgent Place</td>\n",
       "      <td>Friend(s)</td>\n",
       "      <td>Sunny</td>\n",
       "      <td>80</td>\n",
       "      <td>2PM</td>\n",
       "      <td>Coffee House</td>\n",
       "      <td>2h</td>\n",
       "      <td>Female</td>\n",
       "      <td>21</td>\n",
       "      <td>Unmarried partner</td>\n",
       "      <td>...</td>\n",
       "      <td>never</td>\n",
       "      <td>NaN</td>\n",
       "      <td>4~8</td>\n",
       "      <td>1~3</td>\n",
       "      <td>1</td>\n",
       "      <td>1</td>\n",
       "      <td>0</td>\n",
       "      <td>0</td>\n",
       "      <td>1</td>\n",
       "      <td>0</td>\n",
       "    </tr>\n",
       "    <tr>\n",
       "      <th>4</th>\n",
       "      <td>No Urgent Place</td>\n",
       "      <td>Friend(s)</td>\n",
       "      <td>Sunny</td>\n",
       "      <td>80</td>\n",
       "      <td>2PM</td>\n",
       "      <td>Coffee House</td>\n",
       "      <td>1d</td>\n",
       "      <td>Female</td>\n",
       "      <td>21</td>\n",
       "      <td>Unmarried partner</td>\n",
       "      <td>...</td>\n",
       "      <td>never</td>\n",
       "      <td>NaN</td>\n",
       "      <td>4~8</td>\n",
       "      <td>1~3</td>\n",
       "      <td>1</td>\n",
       "      <td>1</td>\n",
       "      <td>0</td>\n",
       "      <td>0</td>\n",
       "      <td>1</td>\n",
       "      <td>0</td>\n",
       "    </tr>\n",
       "  </tbody>\n",
       "</table>\n",
       "<p>5 rows × 26 columns</p>\n",
       "</div>"
      ],
      "text/plain": [
       "       destination  passanger weather  temperature  time  \\\n",
       "0  No Urgent Place      Alone   Sunny           55   2PM   \n",
       "1  No Urgent Place  Friend(s)   Sunny           80  10AM   \n",
       "2  No Urgent Place  Friend(s)   Sunny           80  10AM   \n",
       "3  No Urgent Place  Friend(s)   Sunny           80   2PM   \n",
       "4  No Urgent Place  Friend(s)   Sunny           80   2PM   \n",
       "\n",
       "                  coupon expiration  gender age      maritalStatus  ...  \\\n",
       "0        Restaurant(<20)         1d  Female  21  Unmarried partner  ...   \n",
       "1           Coffee House         2h  Female  21  Unmarried partner  ...   \n",
       "2  Carry out & Take away         2h  Female  21  Unmarried partner  ...   \n",
       "3           Coffee House         2h  Female  21  Unmarried partner  ...   \n",
       "4           Coffee House         1d  Female  21  Unmarried partner  ...   \n",
       "\n",
       "   CoffeeHouse CarryAway RestaurantLessThan20 Restaurant20To50  \\\n",
       "0        never       NaN                  4~8              1~3   \n",
       "1        never       NaN                  4~8              1~3   \n",
       "2        never       NaN                  4~8              1~3   \n",
       "3        never       NaN                  4~8              1~3   \n",
       "4        never       NaN                  4~8              1~3   \n",
       "\n",
       "  toCoupon_GEQ5min toCoupon_GEQ15min toCoupon_GEQ25min direction_same  \\\n",
       "0                1                 0                 0              0   \n",
       "1                1                 0                 0              0   \n",
       "2                1                 1                 0              0   \n",
       "3                1                 1                 0              0   \n",
       "4                1                 1                 0              0   \n",
       "\n",
       "  direction_opp  Y  \n",
       "0             1  1  \n",
       "1             1  0  \n",
       "2             1  1  \n",
       "3             1  0  \n",
       "4             1  0  \n",
       "\n",
       "[5 rows x 26 columns]"
      ]
     },
     "execution_count": 3,
     "metadata": {},
     "output_type": "execute_result"
    }
   ],
   "source": [
    "data.head()"
   ]
  },
  {
   "cell_type": "markdown",
   "metadata": {},
   "source": [
    "2. Investigate the dataset for missing or problematic data."
   ]
  },
  {
   "cell_type": "code",
   "execution_count": 4,
   "metadata": {},
   "outputs": [
    {
     "name": "stdout",
     "output_type": "stream",
     "text": [
      "Columns with NA Values: ['car', 'CoffeeHouse', 'Restaurant20To50', 'CarryAway', 'RestaurantLessThan20', 'Bar']\n",
      "\n",
      "                  index  na_counts\n",
      "0                   car      12576\n",
      "1           CoffeeHouse        217\n",
      "2      Restaurant20To50        189\n",
      "3             CarryAway        151\n",
      "4  RestaurantLessThan20        130\n",
      "5                   Bar        107\n"
     ]
    }
   ],
   "source": [
    "### code\n",
    "na_counts = data.isna().sum().sort_values(ascending=False).reset_index(name='na_counts')\n",
    "na_columns = na_counts[na_counts['na_counts'] > 0]\n",
    "na_columns_list = na_columns['index'].to_list()\n",
    "print(f\"Columns with NA Values: {na_columns_list}\\n\")\n",
    "print(na_columns)"
   ]
  },
  {
   "cell_type": "markdown",
   "metadata": {},
   "source": [
    "3. Decide what to do about your missing data -- drop, replace, other..."
   ]
  },
  {
   "cell_type": "code",
   "execution_count": 5,
   "metadata": {},
   "outputs": [
    {
     "name": "stdout",
     "output_type": "stream",
     "text": [
      "Columns to drop:\n",
      "\t[('car', 12576), ('temperature', None), ('direction_same', None), ('direction_opp', None), ('toCoupon_GEQ5min', None), ('toCoupon_GEQ15min', None), ('toCoupon_GEQ25min', None)]\n"
     ]
    }
   ],
   "source": [
    "# If there are incomplete records, it may be a negligible number.\n",
    "# Consider maximum 5% NA to be usable in major analysis.\n",
    "# Consider using invalid columns for minor analysis.\n",
    "# Any column with greater than 5% NA will be dropped.\n",
    "# One column is named incorrectly. ('passanger')\n",
    "# Temperature data manipulation for later charting\n",
    "# major_data.groupby(['direction_same', 'direction_opp']).size()\n",
    "# ['direction_same', 'direction_opp'] are combined to form a single column\n",
    "# ['toCoupon_GEQ5min', 'toCoupon_GEQ15min', 'toCoupon_GEQ25min'] can be combined into one column\n",
    "max_allowable_na_records = 0.05 * data.shape[0]\n",
    "\n",
    "data.rename(columns={'passanger': 'passenger'}, inplace=True)\n",
    "\n",
    "data['temperature_feels_like'] = data['temperature'].apply(lambda x: 'cold (30F)' if x==30 else 'cool (55F)' if x==55 else 'warm (80F)' if x==80 else None)\n",
    "data['direction'] = data.apply(lambda x: 'same' if x['direction_same']==1 else 'opposite', axis=1)\n",
    "data['distance_to_deal'] = data.apply(lambda x: '25 or more' if x['toCoupon_GEQ25min']==1 else '15 or more' if x['toCoupon_GEQ15min']==1 else '5 or more' if x['toCoupon_GEQ5min']==1 else 'less than 5', axis=1)\n",
    "\n",
    "cols_to_drop = {}\n",
    "for col in na_columns_list:\n",
    "      na_counts_this_col = na_columns.loc[na_columns['index']==col, 'na_counts'].values[0]\n",
    "      if na_counts_this_col > max_allowable_na_records:\n",
    "            cols_to_drop[col] = na_counts_this_col\n",
    "cols_to_drop['temperature'] = None\n",
    "cols_to_drop['direction_same'] = None\n",
    "cols_to_drop['direction_opp'] = None\n",
    "cols_to_drop['toCoupon_GEQ5min'] = None\n",
    "cols_to_drop['toCoupon_GEQ15min'] = None\n",
    "cols_to_drop['toCoupon_GEQ25min'] = None\n",
    "print(f\"Columns to drop:\"\n",
    "      f\"\\n\\t{[(col, val) for col, val in cols_to_drop.items()]}\")\n",
    "\n",
    "major_data = data.copy().drop(cols_to_drop.keys(), axis=1)\n",
    "major_data.dropna(inplace=True)"
   ]
  },
  {
   "cell_type": "markdown",
   "metadata": {},
   "source": [
    "4. What proportion of the total observations chose to accept the coupon? \n",
    "\n"
   ]
  },
  {
   "cell_type": "code",
   "execution_count": 6,
   "metadata": {},
   "outputs": [
    {
     "name": "stdout",
     "output_type": "stream",
     "text": [
      "Proportions - Coupon Acceptance\n",
      "\tAcceptance (All Data):\t\t56.8%\n",
      "\tAcceptance (Selected Data):\t56.9%\n"
     ]
    }
   ],
   "source": [
    "def get_acceptance_rate(df, column=None, suppress_warning=False):\n",
    "      try:\n",
    "            sizes = df.groupby('Y').size()\n",
    "            pct = sizes[1] / (sizes.sum())\n",
    "      except KeyError:\n",
    "            if not suppress_warning:\n",
    "                  print(f\"\\nWarning in recent call `get_acceptance_rate`: Seems to be no positive records\\nColumn Passed: {column}\")\n",
    "            pct = 0.0\n",
    "      return pct\n",
    "\n",
    "data_accepted_pct = get_acceptance_rate(data)\n",
    "major_data_accepted_pct = get_acceptance_rate(major_data)\n",
    "\n",
    "print(f\"Proportions - Coupon Acceptance\"\n",
    "      f\"\\n\\tAcceptance (All Data):\\t\\t{data_accepted_pct:.1%}\"\n",
    "      f\"\\n\\tAcceptance (Selected Data):\\t{major_data_accepted_pct:.1%}\")"
   ]
  },
  {
   "cell_type": "markdown",
   "metadata": {},
   "source": [
    "5. Use a bar plot to visualize the `coupon` column."
   ]
  },
  {
   "cell_type": "code",
   "execution_count": 7,
   "metadata": {},
   "outputs": [
    {
     "name": "stderr",
     "output_type": "stream",
     "text": [
      "/var/folders/wf/gh60jx996f960y_54y3082400000gn/T/ipykernel_64224/2476811670.py:2: UserWarning: set_ticklabels() should only be used with a fixed number of ticks, i.e. after set_ticks() or using a FixedLocator.\n",
      "  coupons_hist.set_xticklabels(coupons_hist.get_xticklabels(), rotation=45, horizontalalignment='right')\n"
     ]
    },
    {
     "data": {
      "text/plain": [
       "[Text(0, 0, 'Restaurant(<20)'),\n",
       " Text(1, 0, 'Coffee House'),\n",
       " Text(2, 0, 'Bar'),\n",
       " Text(3, 0, 'Carry out & Take away'),\n",
       " Text(4, 0, 'Restaurant(20-50)')]"
      ]
     },
     "execution_count": 7,
     "metadata": {},
     "output_type": "execute_result"
    },
    {
     "data": {
      "image/png": "[encoded data removed]",
      "text/plain": [
       "<Figure size 640x480 with 1 Axes>"
      ]
     },
     "metadata": {},
     "output_type": "display_data"
    }
   ],
   "source": [
    "coupons_hist = sns.histplot(data=major_data, x='coupon')\n",
    "coupons_hist.set_xticklabels(coupons_hist.get_xticklabels(), rotation=45, horizontalalignment='right')"
   ]
  },
  {
   "cell_type": "markdown",
   "metadata": {},
   "source": [
    "6. Use a histogram to visualize the temperature column."
   ]
  },
  {
   "cell_type": "code",
   "execution_count": 8,
   "metadata": {},
   "outputs": [
    {
     "name": "stdout",
     "output_type": "stream",
     "text": [
      "COUNTS:\n",
      "temperature_feels_like\n",
      "cold (30F)    2195\n",
      "cool (55F)    3662\n",
      "warm (80F)    6222\n",
      "Name: Y, dtype: int64\n"
     ]
    },
    {
     "name": "stderr",
     "output_type": "stream",
     "text": [
      "/var/folders/wf/gh60jx996f960y_54y3082400000gn/T/ipykernel_64224/3981875792.py:3: UserWarning: set_ticklabels() should only be used with a fixed number of ticks, i.e. after set_ticks() or using a FixedLocator.\n",
      "  temperature_hist.set_xticklabels(temperature_hist.get_xticklabels(), rotation=25, horizontalalignment='right')\n"
     ]
    },
    {
     "data": {
      "text/plain": [
       "[Text(0, 0, 'cool (55F)'), Text(1, 0, 'warm (80F)'), Text(2, 0, 'cold (30F)')]"
      ]
     },
     "execution_count": 8,
     "metadata": {},
     "output_type": "execute_result"
    },
    {
     "data": {
      "image/png": "[encoded data removed]",
      "text/plain": [
       "<Figure size 640x480 with 1 Axes>"
      ]
     },
     "metadata": {},
     "output_type": "display_data"
    }
   ],
   "source": [
    "print(f\"COUNTS:\\n{major_data.groupby('temperature_feels_like')['Y'].count()}\")\n",
    "temperature_hist = sns.histplot(data=major_data, x='temperature_feels_like', hue='Y', multiple='fill')\n",
    "temperature_hist.set_xticklabels(temperature_hist.get_xticklabels(), rotation=25, horizontalalignment='right')"
   ]
  },
  {
   "cell_type": "markdown",
   "metadata": {},
   "source": [
    "**Investigating the Bar Coupons**\n",
    "\n",
    "Now, we will lead you through an exploration of just the bar related coupons.  \n",
    "\n",
    "1. Create a new `DataFrame` that contains just the bar coupons.\n"
   ]
  },
  {
   "cell_type": "code",
   "execution_count": 9,
   "metadata": {},
   "outputs": [
    {
     "data": {
      "text/html": [
       "<div>\n",
       "<style scoped>\n",
       "    .dataframe tbody tr th:only-of-type {\n",
       "        vertical-align: middle;\n",
       "    }\n",
       "\n",
       "    .dataframe tbody tr th {\n",
       "        vertical-align: top;\n",
       "    }\n",
       "\n",
       "    .dataframe thead th {\n",
       "        text-align: right;\n",
       "    }\n",
       "</style>\n",
       "<table border=\"1\" class=\"dataframe\">\n",
       "  <thead>\n",
       "    <tr style=\"text-align: right;\">\n",
       "      <th></th>\n",
       "      <th>destination</th>\n",
       "      <th>passenger</th>\n",
       "      <th>weather</th>\n",
       "      <th>time</th>\n",
       "      <th>coupon</th>\n",
       "      <th>expiration</th>\n",
       "      <th>gender</th>\n",
       "      <th>age</th>\n",
       "      <th>maritalStatus</th>\n",
       "      <th>has_children</th>\n",
       "      <th>...</th>\n",
       "      <th>income</th>\n",
       "      <th>Bar</th>\n",
       "      <th>CoffeeHouse</th>\n",
       "      <th>CarryAway</th>\n",
       "      <th>RestaurantLessThan20</th>\n",
       "      <th>Restaurant20To50</th>\n",
       "      <th>Y</th>\n",
       "      <th>temperature_feels_like</th>\n",
       "      <th>direction</th>\n",
       "      <th>distance_to_deal</th>\n",
       "    </tr>\n",
       "  </thead>\n",
       "  <tbody>\n",
       "    <tr>\n",
       "      <th>24</th>\n",
       "      <td>No Urgent Place</td>\n",
       "      <td>Friend(s)</td>\n",
       "      <td>Sunny</td>\n",
       "      <td>10AM</td>\n",
       "      <td>Bar</td>\n",
       "      <td>1d</td>\n",
       "      <td>Male</td>\n",
       "      <td>21</td>\n",
       "      <td>Single</td>\n",
       "      <td>0</td>\n",
       "      <td>...</td>\n",
       "      <td>$62500 - $74999</td>\n",
       "      <td>never</td>\n",
       "      <td>less1</td>\n",
       "      <td>4~8</td>\n",
       "      <td>4~8</td>\n",
       "      <td>less1</td>\n",
       "      <td>1</td>\n",
       "      <td>warm (80F)</td>\n",
       "      <td>opposite</td>\n",
       "      <td>5 or more</td>\n",
       "    </tr>\n",
       "    <tr>\n",
       "      <th>35</th>\n",
       "      <td>Home</td>\n",
       "      <td>Alone</td>\n",
       "      <td>Sunny</td>\n",
       "      <td>6PM</td>\n",
       "      <td>Bar</td>\n",
       "      <td>1d</td>\n",
       "      <td>Male</td>\n",
       "      <td>21</td>\n",
       "      <td>Single</td>\n",
       "      <td>0</td>\n",
       "      <td>...</td>\n",
       "      <td>$62500 - $74999</td>\n",
       "      <td>never</td>\n",
       "      <td>less1</td>\n",
       "      <td>4~8</td>\n",
       "      <td>4~8</td>\n",
       "      <td>less1</td>\n",
       "      <td>1</td>\n",
       "      <td>cool (55F)</td>\n",
       "      <td>same</td>\n",
       "      <td>5 or more</td>\n",
       "    </tr>\n",
       "    <tr>\n",
       "      <th>39</th>\n",
       "      <td>Work</td>\n",
       "      <td>Alone</td>\n",
       "      <td>Sunny</td>\n",
       "      <td>7AM</td>\n",
       "      <td>Bar</td>\n",
       "      <td>1d</td>\n",
       "      <td>Male</td>\n",
       "      <td>21</td>\n",
       "      <td>Single</td>\n",
       "      <td>0</td>\n",
       "      <td>...</td>\n",
       "      <td>$62500 - $74999</td>\n",
       "      <td>never</td>\n",
       "      <td>less1</td>\n",
       "      <td>4~8</td>\n",
       "      <td>4~8</td>\n",
       "      <td>less1</td>\n",
       "      <td>1</td>\n",
       "      <td>cool (55F)</td>\n",
       "      <td>opposite</td>\n",
       "      <td>25 or more</td>\n",
       "    </tr>\n",
       "    <tr>\n",
       "      <th>46</th>\n",
       "      <td>No Urgent Place</td>\n",
       "      <td>Friend(s)</td>\n",
       "      <td>Sunny</td>\n",
       "      <td>10AM</td>\n",
       "      <td>Bar</td>\n",
       "      <td>1d</td>\n",
       "      <td>Male</td>\n",
       "      <td>46</td>\n",
       "      <td>Single</td>\n",
       "      <td>0</td>\n",
       "      <td>...</td>\n",
       "      <td>$12500 - $24999</td>\n",
       "      <td>never</td>\n",
       "      <td>4~8</td>\n",
       "      <td>1~3</td>\n",
       "      <td>1~3</td>\n",
       "      <td>never</td>\n",
       "      <td>0</td>\n",
       "      <td>warm (80F)</td>\n",
       "      <td>opposite</td>\n",
       "      <td>5 or more</td>\n",
       "    </tr>\n",
       "    <tr>\n",
       "      <th>57</th>\n",
       "      <td>Home</td>\n",
       "      <td>Alone</td>\n",
       "      <td>Sunny</td>\n",
       "      <td>6PM</td>\n",
       "      <td>Bar</td>\n",
       "      <td>1d</td>\n",
       "      <td>Male</td>\n",
       "      <td>46</td>\n",
       "      <td>Single</td>\n",
       "      <td>0</td>\n",
       "      <td>...</td>\n",
       "      <td>$12500 - $24999</td>\n",
       "      <td>never</td>\n",
       "      <td>4~8</td>\n",
       "      <td>1~3</td>\n",
       "      <td>1~3</td>\n",
       "      <td>never</td>\n",
       "      <td>0</td>\n",
       "      <td>cool (55F)</td>\n",
       "      <td>same</td>\n",
       "      <td>5 or more</td>\n",
       "    </tr>\n",
       "  </tbody>\n",
       "</table>\n",
       "<p>5 rows × 22 columns</p>\n",
       "</div>"
      ],
      "text/plain": [
       "        destination  passenger weather  time coupon expiration gender age  \\\n",
       "24  No Urgent Place  Friend(s)   Sunny  10AM    Bar         1d   Male  21   \n",
       "35             Home      Alone   Sunny   6PM    Bar         1d   Male  21   \n",
       "39             Work      Alone   Sunny   7AM    Bar         1d   Male  21   \n",
       "46  No Urgent Place  Friend(s)   Sunny  10AM    Bar         1d   Male  46   \n",
       "57             Home      Alone   Sunny   6PM    Bar         1d   Male  46   \n",
       "\n",
       "   maritalStatus  has_children  ...           income    Bar CoffeeHouse  \\\n",
       "24        Single             0  ...  $62500 - $74999  never       less1   \n",
       "35        Single             0  ...  $62500 - $74999  never       less1   \n",
       "39        Single             0  ...  $62500 - $74999  never       less1   \n",
       "46        Single             0  ...  $12500 - $24999  never         4~8   \n",
       "57        Single             0  ...  $12500 - $24999  never         4~8   \n",
       "\n",
       "   CarryAway RestaurantLessThan20 Restaurant20To50  Y temperature_feels_like  \\\n",
       "24       4~8                  4~8            less1  1             warm (80F)   \n",
       "35       4~8                  4~8            less1  1             cool (55F)   \n",
       "39       4~8                  4~8            less1  1             cool (55F)   \n",
       "46       1~3                  1~3            never  0             warm (80F)   \n",
       "57       1~3                  1~3            never  0             cool (55F)   \n",
       "\n",
       "    direction distance_to_deal  \n",
       "24   opposite        5 or more  \n",
       "35       same        5 or more  \n",
       "39   opposite       25 or more  \n",
       "46   opposite        5 or more  \n",
       "57       same        5 or more  \n",
       "\n",
       "[5 rows x 22 columns]"
      ]
     },
     "execution_count": 9,
     "metadata": {},
     "output_type": "execute_result"
    }
   ],
   "source": [
    "bar_coupons = major_data.query('coupon == \"Bar\"')\n",
    "bar_coupons.head()"
   ]
  },
  {
   "cell_type": "markdown",
   "metadata": {},
   "source": [
    "2. What proportion of bar coupons were accepted?\n"
   ]
  },
  {
   "cell_type": "code",
   "execution_count": 10,
   "metadata": {},
   "outputs": [
    {
     "name": "stdout",
     "output_type": "stream",
     "text": [
      "Proportions - Coupon Acceptance (Bar Coupons, Major Data)\n",
      "\n",
      "\tAcceptance:\t\t41.2%\n"
     ]
    }
   ],
   "source": [
    "bar_coupons_accepted_pct = get_acceptance_rate(bar_coupons)\n",
    "print(f\"Proportions - Coupon Acceptance (Bar Coupons, Major Data)\"\n",
    "      f\"\\n\\n\\tAcceptance:\\t\\t{bar_coupons_accepted_pct:.1%}\")"
   ]
  },
  {
   "cell_type": "markdown",
   "metadata": {},
   "source": [
    "3. Compare the acceptance rate between those who went to a bar 3 or fewer times a month to those who went more.\n"
   ]
  },
  {
   "cell_type": "code",
   "execution_count": 11,
   "metadata": {},
   "outputs": [
    {
     "name": "stdout",
     "output_type": "stream",
     "text": [
      "Proportions - Coupon Acceptance (Bar Coupons, Major Data)\n",
      "\n",
      "Frequency visiting bars\n",
      "\tHigh:\t\t76.2%\n",
      "\tLow:\t\t37.3%\n"
     ]
    }
   ],
   "source": [
    "high_freq = 'Bar in (\"gt8\", \"4~8\")'\n",
    "low_freq = high_freq.replace('in', 'not in')\n",
    "\n",
    "\n",
    "bar_high_freq = get_acceptance_rate(bar_coupons.query(high_freq))\n",
    "bar_low_freq = get_acceptance_rate(bar_coupons.query(low_freq))\n",
    "print(f\"Proportions - Coupon Acceptance (Bar Coupons, Major Data)\"\n",
    "      f\"\\n\\nFrequency visiting bars\"\n",
    "      f\"\\n\\tHigh:\\t\\t{bar_high_freq:.1%}\"\n",
    "      f\"\\n\\tLow:\\t\\t{bar_low_freq:.1%}\"\n",
    "      )"
   ]
  },
  {
   "cell_type": "markdown",
   "metadata": {},
   "source": [
    "4. Compare the acceptance rate between drivers who go to a bar more than once a month and are over the age of 25 to the all others.  Is there a difference?\n"
   ]
  },
  {
   "cell_type": "code",
   "execution_count": 12,
   "metadata": {},
   "outputs": [
    {
     "name": "stdout",
     "output_type": "stream",
     "text": [
      "Proportions - Coupon Acceptance (Bar Coupons, Major Data)\n",
      "\n",
      "Age > 25 and Bar Visits Per Month > 1\n",
      "\tTrue:\t\t69.0%\n",
      "\tFalse:\t\t38.8%\n"
     ]
    }
   ],
   "source": [
    "over_25 = 'age not in (\"below21\", \"21\")'\n",
    "bar_gt_1pm = 'Bar not in (\"never\", \"less1\")'\n",
    "isolated_pop_query = f'{over_25} and {bar_gt_1pm}'\n",
    "\n",
    "bar_regular_over_25 = get_acceptance_rate(bar_coupons.query(isolated_pop_query))\n",
    "other_population = get_acceptance_rate(bar_coupons.query(isolated_pop_query.replace(\"not in\", \"in\")))\n",
    "\n",
    "print(f\"Proportions - Coupon Acceptance (Bar Coupons, Major Data)\"\n",
    "      f\"\\n\\nAge > 25 and Bar Visits Per Month > 1\"\n",
    "      f\"\\n\\tTrue:\\t\\t{bar_regular_over_25:.1%}\"\n",
    "      f\"\\n\\tFalse:\\t\\t{other_population:.1%}\"\n",
    "      )"
   ]
  },
  {
   "cell_type": "markdown",
   "metadata": {},
   "source": [
    "5. Use the same process to compare the acceptance rate between drivers who go to bars more than once a month and had passengers that were not a kid and had occupations other than farming, fishing, or forestry. \n"
   ]
  },
  {
   "cell_type": "code",
   "execution_count": 13,
   "metadata": {},
   "outputs": [
    {
     "name": "stdout",
     "output_type": "stream",
     "text": [
      "Proportions - Coupon Acceptance (Bar Coupons, Major Data)\n",
      "\n",
      "Bar Visits Per Month > 1 and Passenger not Kid(s) and Occupation not FF&F\n",
      "\tTrue:\t\t70.9%\n",
      "\tFalse:\t\t33.3%\n"
     ]
    }
   ],
   "source": [
    "passenger_not_child = 'passenger not in (\"Kid(s)\")'\n",
    "not_farm_fish_forest = 'occupation not in (\"Farming Fishing & Forestry\")'\n",
    "isolated_pop_query = f'{bar_gt_1pm} and {passenger_not_child} and {not_farm_fish_forest}'\n",
    "\n",
    "bar_regular_no_child_no_fff = get_acceptance_rate(bar_coupons.query(isolated_pop_query))\n",
    "other_population = get_acceptance_rate(bar_coupons.query(isolated_pop_query.replace(\"not in\", \"in\")))\n",
    "\n",
    "print(f\"Proportions - Coupon Acceptance (Bar Coupons, Major Data)\"\n",
    "      f\"\\n\\nBar Visits Per Month > 1 and Passenger not Kid(s) and Occupation not FF&F\"\n",
    "      f\"\\n\\tTrue:\\t\\t{bar_regular_no_child_no_fff:.1%}\"\n",
    "      f\"\\n\\tFalse:\\t\\t{other_population:.1%}\"\n",
    "      )"
   ]
  },
  {
   "cell_type": "markdown",
   "metadata": {},
   "source": [
    "6. Compare the acceptance rates between those drivers who:\n",
    "\n",
    "- go to bars more than once a month, had passengers that were not a kid, and were not widowed *OR*\n",
    "- go to bars more than once a month and are under the age of 30 *OR*\n",
    "- go to cheap restaurants more than 4 times a month and income is less than 50K. \n",
    "\n"
   ]
  },
  {
   "cell_type": "code",
   "execution_count": 15,
   "metadata": {},
   "outputs": [
    {
     "name": "stdout",
     "output_type": "stream",
     "text": [
      "\n",
      "Warning in recent call `get_acceptance_rate`: Seems to be no positive records\n",
      "Column Passed: None\n"
     ]
    }
   ],
   "source": [
    "not_widowed = 'maritalStatus not in (\"Widowed\")'\n",
    "age_under_30 = 'age not in (\"31\", \"36\", \"41\", \"46\", \"50plus\")'\n",
    "cheap_resto_gt4pm = 'RestaurantLessThan20 not in (\"never\", \"less1\", \"1~3\")'\n",
    "income_lt_50k = 'income not in (\"$100000 or More\", \"$50000 - $62499\", \"$62500 - $74999\", \"$75000 - $87499\", \"$87500 - $99999\")'\n",
    "\n",
    "isolation_1 = f'{bar_gt_1pm} and {passenger_not_child} and {not_widowed}'\n",
    "isolation_2 = f'{bar_gt_1pm} and {age_under_30}'\n",
    "isolation_3 = f'{cheap_resto_gt4pm} and {income_lt_50k}'\n",
    "isolated_pop_query = f'{isolation_1} and {age_under_30} and {isolation_3}'\n",
    "\n",
    "bar_regular_no_child_no_widow = get_acceptance_rate(bar_coupons.query(isolation_1))\n",
    "bar_regular_under_30 = get_acceptance_rate(bar_coupons.query(isolation_2))\n",
    "cheap_resto_regular_income_lt_50k = get_acceptance_rate(bar_coupons.query(isolation_3))\n",
    "\n",
    "anti_isolation_1 = get_acceptance_rate(bar_coupons.query(isolation_1.replace(\"not in\", \"in\")))\n",
    "anti_isolation_2 = get_acceptance_rate(bar_coupons.query(isolation_2.replace(\"not in\", \"in\")))\n",
    "anti_isolation_3 = get_acceptance_rate(bar_coupons.query(isolation_3.replace(\"not in\", \"in\")))\n",
    "\n",
    "all_criteria_true = get_acceptance_rate(bar_coupons.query(isolated_pop_query))\n",
    "all_criteria_false = get_acceptance_rate(bar_coupons[~(bar_coupons.index.isin(bar_coupons.query(isolated_pop_query).index))])\n"
   ]
  },
  {
   "cell_type": "markdown",
   "metadata": {},
   "source": [
    "7.  Based on these observations, what do you hypothesize about drivers who accepted the bar coupons?"
   ]
  },
  {
   "cell_type": "markdown",
   "metadata": {},
   "source": [
    "Bar coupons were:\n",
    "\n",
    "1. offered fourth-most (second-least) frequently\n",
    "2. offered most frequently on warm (80F) days\n",
    "3. accepted most frequently on warm (80F) days\n",
    "4. accepted less frequently (41.2%) than the aggregate (56.9%)"
   ]
  },
  {
   "cell_type": "markdown",
   "metadata": {},
   "source": [
    "### Independent Investigation\n",
    "\n",
    "Using the bar coupon example as motivation, you are to explore one of the other coupon groups and try to determine the characteristics of passengers who accept the coupons.  "
   ]
  },
  {
   "cell_type": "code",
   "execution_count": null,
   "metadata": {},
   "outputs": [],
   "source": []
  },
  {
   "cell_type": "code",
   "execution_count": null,
   "metadata": {},
   "outputs": [],
   "source": []
  },
  {
   "cell_type": "code",
   "execution_count": null,
   "metadata": {},
   "outputs": [],
   "source": []
  },
  {
   "cell_type": "code",
   "execution_count": null,
   "metadata": {},
   "outputs": [],
   "source": []
  },
  {
   "cell_type": "code",
   "execution_count": null,
   "metadata": {},
   "outputs": [],
   "source": []
  }
 ],
 "metadata": {
  "kernelspec": {
   "display_name": "Python 3",
   "language": "python",
   "name": "python3"
  },
  "language_info": {
   "codemirror_mode": {
    "name": "ipython",
    "version": 3
   },
   "file_extension": ".py",
   "mimetype": "text/x-python",
   "name": "python",
   "nbconvert_exporter": "python",
   "pygments_lexer": "ipython3",
   "version": "3.9.5"
  },
  "widgets": {
   "application/vnd.jupyter.widget-state+json": {
    "state": {},
    "version_major": 2,
    "version_minor": 0
   }
  }
 },
 "nbformat": 4,
 "nbformat_minor": 4
}
